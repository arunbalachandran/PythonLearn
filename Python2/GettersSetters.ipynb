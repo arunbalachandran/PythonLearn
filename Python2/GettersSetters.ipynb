{
 "cells": [
  {
   "cell_type": "markdown",
   "metadata": {},
   "source": [
    "### Why do we need getters and setters?\n",
    "Getters and setters are most importantly added so that we can add validations to our set methods and customize our get methods."
   ]
  },
  {
   "cell_type": "code",
   "execution_count": null,
   "metadata": {},
   "outputs": [],
   "source": [
    "class Number(object):\n",
    "    def __init__(self, num):\n",
    "        self.__num = num\n",
    "        \n",
    "    def get_num(self):\n",
    "        return self.__num\n",
    "    \n",
    "    def set_num(self, num):\n",
    "        self.__num = num\n",
    "        \n",
    "n1, n2 = Number(2), Number(3)\n",
    "sum_n = Number(n1.get_num() + n2.get_num())\n",
    "print(sum_n.get_num())\n",
    "print(sum_n.__n)"
   ]
  },
  {
   "cell_type": "markdown",
   "metadata": {},
   "source": [
    "If we avoid encapsulation of data, we could have simply written this as"
   ]
  },
  {
   "cell_type": "code",
   "execution_count": null,
   "metadata": {},
   "outputs": [],
   "source": [
    "class Number(object):\n",
    "    def __init__(self, num):\n",
    "        self.num = num\n",
    "\n",
    "# now we can call initialize numbers as\n",
    "x = Number(Number(2).num + Number(3).num)\n",
    "print(x.num)"
   ]
  },
  {
   "cell_type": "markdown",
   "metadata": {},
   "source": [
    "Using our getter, setter method style implementation of  the class, suppose we want to add checks for our input, i.e. validations, we could do the following,"
   ]
  },
  {
   "cell_type": "code",
   "execution_count": null,
   "metadata": {},
   "outputs": [],
   "source": [
    "class Number(object):\n",
    "    def __init__(self, num):\n",
    "        self.set_num(num)\n",
    "        \n",
    "    def get_num(self):\n",
    "        return self.__num\n",
    "    \n",
    "    def set_num(self, num):\n",
    "        if num >= 0 and num < 1000:\n",
    "            self.__num = num\n",
    "        else:\n",
    "            self.__num = -1\n",
    "    \n",
    "print(Number(1000).get_num())\n",
    "print(Number(-3434).get_num())"
   ]
  },
  {
   "cell_type": "markdown",
   "metadata": {},
   "source": [
    "Suppose, we use our old method of calling the functions, and suppose we need to present the same interface to our users, what can we do? We can use the Python property decorator!"
   ]
  },
  {
   "cell_type": "code",
   "execution_count": null,
   "metadata": {},
   "outputs": [],
   "source": [
    "class Number(object):\n",
    "    def __init__(self, num):\n",
    "        self.num = num\n",
    "        \n",
    "    @property\n",
    "    def num(self):\n",
    "        return self.__num\n",
    "    \n",
    "    @num.setter\n",
    "    def num(self, num):\n",
    "        if num >= 0 and num < 1000:\n",
    "            self.__num = num\n",
    "        else:\n",
    "            self.__num = -1\n",
    "\n",
    "# verification\n",
    "x = Number(200)\n",
    "print(x.num)"
   ]
  },
  {
   "cell_type": "code",
   "execution_count": null,
   "metadata": {},
   "outputs": [],
   "source": [
    "import six\n",
    "\n",
    "class Player(object):\n",
    "    def __init__(self, marker, player_type):\n",
    "        self.marker = marker\n",
    "        self.player_type = player_type\n",
    "\n",
    "    def __str__(self):\n",
    "        if self._player_type == 'H':\n",
    "            return 'Human : ' + self._marker\n",
    "        else:\n",
    "            return 'Computer : ' + self._marker\n",
    "\n",
    "    @property\n",
    "    def marker(self):\n",
    "        return self._marker\n",
    "\n",
    "    @marker.setter\n",
    "    def marker(self, m):\n",
    "        flag = True\n",
    "        while True:\n",
    "            if not m:\n",
    "                print('The marker field cannot be empty!')\n",
    "                flag = False\n",
    "            elif m != 'X' or m != 'O':\n",
    "                print('The marker is not an X or an O.')\n",
    "                flag = False\n",
    "            if flag == False:\n",
    "                m = six.moves.input()\n",
    "                continue\n",
    "            self._marker = m\n",
    "            break\n",
    "\n",
    "    @property\n",
    "    def player_type(self):\n",
    "        return self._player_type\n",
    "\n",
    "    @player_type.setter\n",
    "    def player_type(self, p):\n",
    "        flag = True\n",
    "        while True:\n",
    "            if not p:\n",
    "                print('The player field cannot be empty!')\n",
    "                flag = False\n",
    "            elif p != 'H' or p != 'C':\n",
    "                print('The player has to be of type H (human) or C (computer).')\n",
    "                flag = False\n",
    "            if flag == False:\n",
    "                m = six.moves.input()\n",
    "                continue\n",
    "            self._player_type = p\n",
    "            break\n",
    "          \n",
    "p = Player('m', 'c')"
   ]
  }
 ],
 "metadata": {
  "kernelspec": {
   "display_name": "Python 2",
   "language": "python",
   "name": "python2"
  },
  "language_info": {
   "codemirror_mode": {
    "name": "ipython",
    "version": 2
   },
   "file_extension": ".py",
   "mimetype": "text/x-python",
   "name": "python",
   "nbconvert_exporter": "python",
   "pygments_lexer": "ipython2",
   "version": "2.7.14"
  }
 },
 "nbformat": 4,
 "nbformat_minor": 2
}
