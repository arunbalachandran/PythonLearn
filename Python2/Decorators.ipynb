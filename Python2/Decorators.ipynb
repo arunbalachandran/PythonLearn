{
 "cells": [
  {
   "cell_type": "markdown",
   "metadata": {},
   "source": [
    "# Decorators"
   ]
  },
  {
   "cell_type": "markdown",
   "metadata": {},
   "source": [
    "In python, decorators act as functions that can take functions as input and give out functions as their output. Before we dive into decorators, there are few things we need to get out of the way"
   ]
  },
  {
   "cell_type": "markdown",
   "metadata": {},
   "source": [
    "Functions can be assigned to variables :"
   ]
  },
  {
   "cell_type": "code",
   "execution_count": 3,
   "metadata": {},
   "outputs": [
    {
     "name": "stdout",
     "output_type": "stream",
     "text": [
      "Hello world Jonathan\n"
     ]
    }
   ],
   "source": [
    "def hello_world(name):\n",
    "    return (\"Hello world \" + name)\n",
    "    \n",
    "print(hello_world(\"Jonathan\"))"
   ]
  },
  {
   "cell_type": "markdown",
   "metadata": {},
   "source": [
    "Functions can be defined within other functions :"
   ]
  },
  {
   "cell_type": "code",
   "execution_count": 7,
   "metadata": {},
   "outputs": [
    {
     "name": "stdout",
     "output_type": "stream",
     "text": [
      "Using top level name in bottom level : Jonathan\n",
      "Using top level name in bottom level : Jonathan\n"
     ]
    }
   ],
   "source": [
    "def top_level_func(name):\n",
    "    def bottom_level_func():\n",
    "        return 'Using top level name in bottom level : ' + name\n",
    "    return bottom_level_func()\n",
    "\n",
    "print(top_level_func(\"Jonathan\"))\n",
    "\n",
    "# We can make this more explicit\n",
    "def top_level_func(name):\n",
    "    def bottom_level_func(first_name):\n",
    "        return ('Using top level name in bottom level : ' + first_name)\n",
    "    return bottom_level_func(name)\n",
    "\n",
    "print(top_level_func(\"Jonathan\"))"
   ]
  },
  {
   "cell_type": "markdown",
   "metadata": {},
   "source": [
    "Functions can be passed to other functions :"
   ]
  },
  {
   "cell_type": "code",
   "execution_count": 8,
   "metadata": {},
   "outputs": [
    {
     "name": "stdout",
     "output_type": "stream",
     "text": [
      "Hello Snake wizard\n"
     ]
    }
   ],
   "source": [
    "def greeting(name):\n",
    "    print ('Hello ' + name)\n",
    "    \n",
    "def top_func(greeting_func):\n",
    "    # this function is used to pass a parameter to the greeing_func\n",
    "    greeting_func(\"Snake wizard\")\n",
    "    \n",
    "top_func(greeting)"
   ]
  },
  {
   "cell_type": "markdown",
   "metadata": {},
   "source": [
    "Functions can return / generate new functions. Here the inner functions have access to the scope of the enclosure (enclosing scope)."
   ]
  },
  {
   "cell_type": "code",
   "execution_count": 13,
   "metadata": {},
   "outputs": [
    {
     "name": "stdout",
     "output_type": "stream",
     "text": [
      "Hello, Jonathan\n",
      "Hello, Sullivan\n"
     ]
    }
   ],
   "source": [
    "def custom_greeting_generator(name):\n",
    "    def greeting_template():\n",
    "        return 'Hello, ' + name\n",
    "    \n",
    "    return greeting_template\n",
    "\n",
    "custom_greeting_1 = custom_greeting_generator('Jonathan')\n",
    "custom_greeting_2 = custom_greeting_generator('Sullivan')\n",
    "print(custom_greeting_1())\n",
    "print(custom_greeting_2())"
   ]
  },
  {
   "cell_type": "markdown",
   "metadata": {},
   "source": [
    "How about a quadruple nested function ?"
   ]
  },
  {
   "cell_type": "code",
   "execution_count": 14,
   "metadata": {},
   "outputs": [
    {
     "name": "stdout",
     "output_type": "stream",
     "text": [
      "Your username is Jonathan\n"
     ]
    }
   ],
   "source": [
    "def top_level_func(username):\n",
    "    def intermediate_level_func1():\n",
    "        def intermediate_level_func2():\n",
    "            def bottom_level_func():\n",
    "                return 'Your username is ' + username\n",
    "            return bottom_level_func()\n",
    "        return intermediate_level_func2()\n",
    "    return intermediate_level_func1()\n",
    "\n",
    "print(top_level_func('Jonathan'))"
   ]
  },
  {
   "cell_type": "markdown",
   "metadata": {},
   "source": [
    "Closures in python are defined as a technique/object that can be used to give a child function access to the its parent functions' variable. Here the child function is stored in the stack as a constant during its creation and the parent function's variable is kept alive until that function needs it, hence making it a closure."
   ]
  },
  {
   "cell_type": "code",
   "execution_count": 15,
   "metadata": {},
   "outputs": [
    {
     "data": {
      "text/plain": [
       "'The name of parent is Sinni'"
      ]
     },
     "execution_count": 15,
     "metadata": {},
     "output_type": "execute_result"
    }
   ],
   "source": [
    "def parent_func(name):\n",
    "    def child_func():\n",
    "        return 'The name of parent is ' + name\n",
    "    return child_func\n",
    "\n",
    "print_val = parent_func('Sinni')\n",
    "print_val()"
   ]
  },
  {
   "cell_type": "markdown",
   "metadata": {},
   "source": [
    "Here's a counter example of a nested function that is not a closure. Here, it is not a closure because the parameter of the nested function has the value of the parent function's parameter bound (copied) to it and therefore it is initialized with this value beforehand and therefore the parent function's variable needn't stay alive.\n"
   ]
  },
  {
   "cell_type": "code",
   "execution_count": 16,
   "metadata": {},
   "outputs": [
    {
     "data": {
      "text/plain": [
       "'The name of child is Sinni'"
      ]
     },
     "execution_count": 16,
     "metadata": {},
     "output_type": "execute_result"
    }
   ],
   "source": [
    "def parent_func(name):\n",
    "    def child_func(name=name):\n",
    "        return 'The name of child is ' + name\n",
    "    return child_func\n",
    "\n",
    "print_val = parent_func('Sinni')\n",
    "print_val()"
   ]
  },
  {
   "cell_type": "markdown",
   "metadata": {},
   "source": [
    "Now when we create a decorator, the decorator is created keeping in mind that we know the signature of the function being passed to the decorator. This comes into play when we define the decorator, because we passed the arguments of the function being modified via the child of the decorator."
   ]
  },
  {
   "cell_type": "code",
   "execution_count": 3,
   "metadata": {},
   "outputs": [
    {
     "name": "stdout",
     "output_type": "stream",
     "text": [
      "<h1>Hello there, Remo</h1>\n"
     ]
    }
   ],
   "source": [
    "def hello_func(username):\n",
    "    return 'Hello there, ' + username\n",
    "\n",
    "def tag_decorator(func):\n",
    "    def tag_wrapper(func_argument):\n",
    "        return '<h1>' + func(func_argument) + '</h1>'\n",
    "    # a decorator returns a function -> a new function that takes an argument and returns a html string as a response\n",
    "    return tag_wrapper\n",
    "\n",
    "decorated_func = tag_decorator(hello_func)\n",
    "# now your decorated_func, i.e. your new function can take a string as input and give a HTML string as an output\n",
    "# so, we could use this is as an interface for old and new functions / classes etc.\n",
    "print(decorated_func('Remo'))"
   ]
  },
  {
   "cell_type": "markdown",
   "metadata": {},
   "source": [
    "Now, if we wanted to keep the name of our function the same, we could do the following :"
   ]
  },
  {
   "cell_type": "code",
   "execution_count": 8,
   "metadata": {},
   "outputs": [
    {
     "name": "stdout",
     "output_type": "stream",
     "text": [
      "Hello there, fellow human - Arun\n",
      "<h1>Hello there, fellow human - Arun</h1>\n"
     ]
    }
   ],
   "source": [
    "def hello_func(username):\n",
    "    return 'Hello there, fellow human - ' + username\n",
    "\n",
    "print(hello_func('Arun'))\n",
    "\n",
    "def decorator_func(func):\n",
    "    def tag_wrapper(func_argument):\n",
    "        return '<h1>' + func(func_argument) + '</h1>'\n",
    "    return tag_wrapper\n",
    "\n",
    "hello_func = decorator_func(hello_func)\n",
    "# so that now calling our function takes the same input as before but gives a different output\n",
    "print(hello_func('Arun'))"
   ]
  },
  {
   "cell_type": "markdown",
   "metadata": {},
   "source": [
    "This can be written using some syntactic sugar aka Python's decorators"
   ]
  },
  {
   "cell_type": "code",
   "execution_count": 9,
   "metadata": {},
   "outputs": [
    {
     "name": "stdout",
     "output_type": "stream",
     "text": [
      "<h1>John</h1>\n"
     ]
    }
   ],
   "source": [
    "def html_decorator(func):\n",
    "    def tag_wrapper(func_args):\n",
    "        return '<h1>' + func_args + '</h1>'\n",
    "    return tag_wrapper\n",
    "\n",
    "# define function inline with the decorator\n",
    "@html_decorator\n",
    "def hello_user(username):\n",
    "    return 'Hello, ' + username\n",
    "\n",
    "print(hello_user('John'))"
   ]
  },
  {
   "cell_type": "markdown",
   "metadata": {},
   "source": [
    "Decorators can also be chained ..."
   ]
  },
  {
   "cell_type": "code",
   "execution_count": 12,
   "metadata": {},
   "outputs": [
    {
     "name": "stdout",
     "output_type": "stream",
     "text": [
      "<h1><p><strong>Hello, John</strong></p></h1>\n"
     ]
    }
   ],
   "source": [
    "def htag_decorator(func):\n",
    "    def tag_wrapper(func_args):\n",
    "        return '<h1>' + func(func_args) + '</h1>'\n",
    "    return tag_wrapper\n",
    "\n",
    "def ptag_decorator(func):\n",
    "    def tag_wrapper(func_args):\n",
    "        return '<p>' + func(func_args) + '</p>'\n",
    "    return tag_wrapper\n",
    "\n",
    "def strong_tag_decorator(func):\n",
    "    def tag_wrapper(func_args):\n",
    "        return '<strong>' + func(func_args) + '</strong>'\n",
    "    return tag_wrapper\n",
    "\n",
    "@htag_decorator\n",
    "@ptag_decorator\n",
    "@strong_tag_decorator\n",
    "def hello_user(username):\n",
    "    return 'Hello, ' + username\n",
    "\n",
    "print(hello_user('John'))"
   ]
  },
  {
   "cell_type": "markdown",
   "metadata": {},
   "source": [
    "Decorators can be used with methods too, ..."
   ]
  },
  {
   "cell_type": "code",
   "execution_count": 15,
   "metadata": {},
   "outputs": [
    {
     "name": "stdout",
     "output_type": "stream",
     "text": [
      "<h1>Abcd Efgh</h1>\n"
     ]
    }
   ],
   "source": [
    "def html_decorator(func):\n",
    "    def tag_wrapper(func_args):\n",
    "        return '<h1>' + func(func_args) + '</h1>'\n",
    "    return tag_wrapper\n",
    "\n",
    "class Person(object):\n",
    "    def __init__(self, first_name, last_name):\n",
    "        self.first_name = first_name\n",
    "        self.last_name = last_name\n",
    "    \n",
    "    @html_decorator\n",
    "    def get_name(self):\n",
    "        return self.first_name + ' ' + self.last_name\n",
    "    \n",
    "person_1 = Person('Abcd', 'Efgh')\n",
    "print(person_1.get_name())"
   ]
  },
  {
   "cell_type": "markdown",
   "metadata": {},
   "source": [
    "To pass arguments to our decorators, we will need to add in one additional level of complexity,"
   ]
  },
  {
   "cell_type": "code",
   "execution_count": 18,
   "metadata": {},
   "outputs": [
    {
     "name": "stdout",
     "output_type": "stream",
     "text": [
      "<p>Hello, John</p>\n",
      "tag_wrapper\n"
     ]
    }
   ],
   "source": [
    "def tag_selector(tag_str):\n",
    "    def html_decorator(func):\n",
    "        def tag_wrapper(func_args):\n",
    "            return '<{0}>{1}</{0}>'.format(tag_str, func(func_args))\n",
    "        return tag_wrapper\n",
    "    return html_decorator\n",
    "\n",
    "@tag_selector('p')\n",
    "def get_name(username):\n",
    "    return 'Hello, ' + username\n",
    "\n",
    "print(get_name('John'))\n",
    "print(get_name.__name__)"
   ]
  },
  {
   "cell_type": "markdown",
   "metadata": {},
   "source": [
    "We notice that the name of our function has changed and to fix this problem we can use the wrap decorator from functools ->"
   ]
  },
  {
   "cell_type": "code",
   "execution_count": 19,
   "metadata": {},
   "outputs": [
    {
     "name": "stdout",
     "output_type": "stream",
     "text": [
      "<p>Hello, John</p>\n",
      "get_name\n"
     ]
    }
   ],
   "source": [
    "from functools import wraps\n",
    "\n",
    "def tag_selector(tag_str):\n",
    "    def html_decorator(func):\n",
    "        @wraps(func)  # this decorator will set the name of our returned function back to the original name\n",
    "        def tag_wrapper(func_args):\n",
    "            return '<{0}>{1}</{0}>'.format(tag_str, func(func_args))\n",
    "        return tag_wrapper\n",
    "    return html_decorator\n",
    "\n",
    "@tag_selector('p')\n",
    "def get_name(username):\n",
    "    return 'Hello, ' + username\n",
    "\n",
    "print(get_name('John'))\n",
    "print(get_name.__name__)"
   ]
  }
 ],
 "metadata": {
  "kernelspec": {
   "display_name": "Python 2",
   "language": "python",
   "name": "python2"
  },
  "language_info": {
   "codemirror_mode": {
    "name": "ipython",
    "version": 2
   },
   "file_extension": ".py",
   "mimetype": "text/x-python",
   "name": "python",
   "nbconvert_exporter": "python",
   "pygments_lexer": "ipython2",
   "version": "2.7.14"
  }
 },
 "nbformat": 4,
 "nbformat_minor": 2
}
