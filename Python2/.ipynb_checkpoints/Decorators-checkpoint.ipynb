{
 "cells": [
  {
   "cell_type": "markdown",
   "metadata": {},
   "source": [
    "# Decorators"
   ]
  },
  {
   "cell_type": "markdown",
   "metadata": {},
   "source": [
    "In python, decorators act as functions that can take functions as input and give out functions as their output. Before we dive into decorators, there are few things we need to get out of the way"
   ]
  },
  {
   "cell_type": "markdown",
   "metadata": {},
   "source": [
    "### Functions can be assigned to variables :"
   ]
  },
  {
   "cell_type": "code",
   "execution_count": 3,
   "metadata": {},
   "outputs": [
    {
     "name": "stdout",
     "output_type": "stream",
     "text": [
      "Hello world Jonathan\n"
     ]
    }
   ],
   "source": [
    "def hello_world(name):\n",
    "    return (\"Hello world \" + name)\n",
    "    \n",
    "print(hello_world(\"Jonathan\"))"
   ]
  },
  {
   "cell_type": "markdown",
   "metadata": {},
   "source": [
    "### Functions can be defined within other functions :"
   ]
  },
  {
   "cell_type": "code",
   "execution_count": 7,
   "metadata": {},
   "outputs": [
    {
     "name": "stdout",
     "output_type": "stream",
     "text": [
      "Using top level name in bottom level : Jonathan\n",
      "Using top level name in bottom level : Jonathan\n"
     ]
    }
   ],
   "source": [
    "def top_level_func(name):\n",
    "    def bottom_level_func():\n",
    "        return 'Using top level name in bottom level : ' + name\n",
    "    return bottom_level_func()\n",
    "\n",
    "print(top_level_func(\"Jonathan\"))\n",
    "\n",
    "# We can make this more explicit\n",
    "def top_level_func(name):\n",
    "    def bottom_level_func(first_name):\n",
    "        return ('Using top level name in bottom level : ' + first_name)\n",
    "    return bottom_level_func(name)\n",
    "\n",
    "print(top_level_func(\"Jonathan\"))"
   ]
  },
  {
   "cell_type": "markdown",
   "metadata": {},
   "source": [
    "### Functions can be passed to other functions :"
   ]
  },
  {
   "cell_type": "code",
   "execution_count": 8,
   "metadata": {},
   "outputs": [
    {
     "name": "stdout",
     "output_type": "stream",
     "text": [
      "Hello Snake wizard\n"
     ]
    }
   ],
   "source": [
    "def greeting(name):\n",
    "    print ('Hello ' + name)\n",
    "    \n",
    "def top_func(greeting_func):\n",
    "    # this function is used to pass a parameter to the greeing_func\n",
    "    greeting_func(\"Snake wizard\")\n",
    "    \n",
    "top_func(greeting)"
   ]
  },
  {
   "cell_type": "markdown",
   "metadata": {},
   "source": [
    "### Functions can return / generate new functions. Here the inner functions have access to the scope of the enclosure (enclosing scope)."
   ]
  },
  {
   "cell_type": "code",
   "execution_count": 13,
   "metadata": {},
   "outputs": [
    {
     "name": "stdout",
     "output_type": "stream",
     "text": [
      "Hello, Jonathan\n",
      "Hello, Sullivan\n"
     ]
    }
   ],
   "source": [
    "def custom_greeting_generator(name):\n",
    "    def greeting_template():\n",
    "        return 'Hello, ' + name\n",
    "    \n",
    "    return greeting_template\n",
    "\n",
    "custom_greeting_1 = custom_greeting_generator('Jonathan')\n",
    "custom_greeting_2 = custom_greeting_generator('Sullivan')\n",
    "print(custom_greeting_1())\n",
    "print(custom_greeting_2())"
   ]
  },
  {
   "cell_type": "markdown",
   "metadata": {},
   "source": [
    "### How about a quadruple nested function ?"
   ]
  },
  {
   "cell_type": "code",
   "execution_count": 14,
   "metadata": {},
   "outputs": [
    {
     "name": "stdout",
     "output_type": "stream",
     "text": [
      "Your username is Jonathan\n"
     ]
    }
   ],
   "source": [
    "def top_level_func(username):\n",
    "    def intermediate_level_func1():\n",
    "        def intermediate_level_func2():\n",
    "            def bottom_level_func():\n",
    "                return 'Your username is ' + username\n",
    "            return bottom_level_func()\n",
    "        return intermediate_level_func2()\n",
    "    return intermediate_level_func1()\n",
    "\n",
    "print(top_level_func('Jonathan'))"
   ]
  },
  {
   "cell_type": "markdown",
   "metadata": {},
   "source": [
    "### Closures in python are defined as a technique that can be used to give a child function access to the its parent functions' variable. Here the child function is stored in the stack as a constant during its creation and the parent function's variable is kept alive until that function needs it, hence making it a closure."
   ]
  },
  {
   "cell_type": "code",
   "execution_count": 15,
   "metadata": {},
   "outputs": [
    {
     "data": {
      "text/plain": [
       "'The name of parent is Sinni'"
      ]
     },
     "execution_count": 15,
     "metadata": {},
     "output_type": "execute_result"
    }
   ],
   "source": [
    "def parent_func(name):\n",
    "    def child_func():\n",
    "        return 'The name of parent is ' + name\n",
    "    return child_func\n",
    "\n",
    "print_val = parent_func('Sinni')\n",
    "print_val()"
   ]
  },
  {
   "cell_type": "markdown",
   "metadata": {},
   "source": [
    "### Here's a counter example of a nested function that is not a closure. Here, it is not a closure because the parameter of the nested function has the value of the parent function's parameter bound (copied) to it and therefore it is initialized with this value beforehand and therefore the parent function's variable needn't stay alive.\n"
   ]
  },
  {
   "cell_type": "code",
   "execution_count": 16,
   "metadata": {},
   "outputs": [
    {
     "data": {
      "text/plain": [
       "'The name of child is Sinni'"
      ]
     },
     "execution_count": 16,
     "metadata": {},
     "output_type": "execute_result"
    }
   ],
   "source": [
    "def parent_func(name):\n",
    "    def child_func(name=name):\n",
    "        return 'The name of child is ' + name\n",
    "    return child_func\n",
    "\n",
    "print_val = parent_func('Sinni')\n",
    "print_val()"
   ]
  }
 ],
 "metadata": {
  "kernelspec": {
   "display_name": "Python 2",
   "language": "python",
   "name": "python2"
  },
  "language_info": {
   "codemirror_mode": {
    "name": "ipython",
    "version": 2
   },
   "file_extension": ".py",
   "mimetype": "text/x-python",
   "name": "python",
   "nbconvert_exporter": "python",
   "pygments_lexer": "ipython2",
   "version": "2.7.14"
  }
 },
 "nbformat": 4,
 "nbformat_minor": 2
}
