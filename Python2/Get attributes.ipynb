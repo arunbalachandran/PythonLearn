{
 "cells": [
  {
   "cell_type": "code",
   "execution_count": 1,
   "metadata": {},
   "outputs": [
    {
     "name": "stdout",
     "output_type": "stream",
     "text": [
      "Hello class was initialized\n",
      "Method 1 called -> Method 2\n"
     ]
    }
   ],
   "source": [
    "class Hello(object):\n",
    "    def __init__(self):\n",
    "        print('Hello class was initialized')\n",
    "        \n",
    "    def method1(self):\n",
    "        print('Method 1 called -> ' + getattr(self, 'method2')())\n",
    "        \n",
    "    def method2(self):\n",
    "        return 'Method 2'\n",
    "    \n",
    "h = Hello()\n",
    "h.method1()"
   ]
  },
  {
   "cell_type": "code",
   "execution_count": 16,
   "metadata": {},
   "outputs": [
    {
     "name": "stdout",
     "output_type": "stream",
     "text": [
      "Hello class was initialized\n",
      "('Attributes are, ', ['attr4', 'attr2', 'attr3', 'attr1'])\n",
      "Method 1 called -> Method 2\n",
      "Hello class was initialized\n",
      "('Attributes are, ', ['attr4', 'attr2', 'attr3', 'attr1'])\n"
     ]
    }
   ],
   "source": [
    "class Hello(object):\n",
    "    def __init__(self, attr1, attr2=None, attr3=None, attr4=None):\n",
    "        print('Hello class was initialized')\n",
    "        parameters = [x for x in locals().keys() if x != 'self']\n",
    "        print('Attributes are, ', parameters)\n",
    "        \n",
    "    def method1(self):\n",
    "        print('Method 1 called -> ' + getattr(self, 'method2')())\n",
    "        \n",
    "    def method2(self):\n",
    "        return 'Method 2'\n",
    "    \n",
    "h = Hello(2)\n",
    "h.method1()\n",
    "h = Hello(1)"
   ]
  }
 ],
 "metadata": {
  "kernelspec": {
   "display_name": "Python 2",
   "language": "python",
   "name": "python2"
  },
  "language_info": {
   "codemirror_mode": {
    "name": "ipython",
    "version": 2
   },
   "file_extension": ".py",
   "mimetype": "text/x-python",
   "name": "python",
   "nbconvert_exporter": "python",
   "pygments_lexer": "ipython2",
   "version": "2.7.14"
  }
 },
 "nbformat": 4,
 "nbformat_minor": 2
}
